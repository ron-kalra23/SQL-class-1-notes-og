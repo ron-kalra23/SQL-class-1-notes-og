{
 "cells": [
  {
   "cell_type": "markdown",
   "id": "2dea6c42",
   "metadata": {},
   "source": [
    "# data base:\n",
    "   data base is a collection of tables. tables are combination of rows and column. and it shows us records. when we need partial information from different tables we can easily do it."
   ]
  },
  {
   "cell_type": "raw",
   "id": "563a5b9d",
   "metadata": {},
   "source": [
    "s = structured\n",
    "q = query\n",
    "l = language\n",
    "we will use sql3lite for our learning of sql"
   ]
  },
  {
   "cell_type": "code",
   "execution_count": 1,
   "id": "90b5c395",
   "metadata": {},
   "outputs": [],
   "source": [
    "#import of sql3lite\n",
    "import sqlite3\n",
    "#connecting with the database(if there is not database exist it will create one)\n",
    "db = sqlite3.connect('student_database.db')   #instead of db we can give any name but student_database.db stands for data base ."
   ]
  },
  {
   "cell_type": "code",
   "execution_count": 2,
   "id": "bd50fc00",
   "metadata": {},
   "outputs": [],
   "source": [
    "#just like pointer in our window we have a cursor in our database with the help of this cursor ,it help to tell things or do acivites with different data bases."
   ]
  },
  {
   "cell_type": "code",
   "execution_count": 4,
   "id": "eff04046",
   "metadata": {},
   "outputs": [],
   "source": [
    "#first we have to declare cursor\n",
    "cursor = db.cursor()   #we can give any name instead of cursor"
   ]
  },
  {
   "cell_type": "code",
   "execution_count": 5,
   "id": "5f27410d",
   "metadata": {},
   "outputs": [
    {
     "data": {
      "text/plain": [
       "<sqlite3.Cursor at 0x1b817f72110>"
      ]
     },
     "execution_count": 5,
     "metadata": {},
     "output_type": "execute_result"
    }
   ],
   "source": [
    "#then we will have to create a table.\n",
    "cursor.execute(\"CREATE TABLE student_data(phone_no INT PRIMARY KEY , email_id TEXT,course_name TEXT,fee_paid INT)\")\n",
    "#primary key is used here so that the same phone no will not occur"
   ]
  },
  {
   "cell_type": "code",
   "execution_count": 18,
   "id": "da172fbb",
   "metadata": {},
   "outputs": [
    {
     "name": "stdout",
     "output_type": "stream",
     "text": [
      "1 record(s) inserted\n"
     ]
    }
   ],
   "source": [
    "cursor.execute(\"INSERT INTO student_data (phone_no ,email_id , course_name , fee_paid) VALUES ( 7404143308 , 'student@gmail' ,'data science' , 30000)\")\n",
    "#insert records into the table we made\n",
    "\n",
    "\n",
    "db.commit()\n",
    "#to save data permanently otherwise data will be saved temporary\n",
    "\n",
    "print(cursor.rowcount,\"record(s) inserted\")\n",
    "#to check if our data is saved or not as a result our data is showing 1 row in ouput means it is saved"
   ]
  },
  {
   "cell_type": "markdown",
   "id": "29372e41",
   "metadata": {},
   "source": [
    "# select query = how to fetch records from table"
   ]
  },
  {
   "cell_type": "code",
   "execution_count": 20,
   "id": "f724f895",
   "metadata": {},
   "outputs": [
    {
     "name": "stdout",
     "output_type": "stream",
     "text": [
      "(9255443308, 'student@gmail', 'data science', 30000)\n",
      "(7404143308, 'student@gmail', 'data science', 30000)\n"
     ]
    }
   ],
   "source": [
    "results = cursor.execute(\"SELECT * FROM student_data\")\n",
    "for row in results:    # * means all column records\n",
    "    print(row)         # we can use sql in both upper and lower case here for loop is from python"
   ]
  },
  {
   "cell_type": "markdown",
   "id": "f04dd9ad",
   "metadata": {},
   "source": [
    "# multiple record insertion:\n",
    "    now we dont have to mention column name again and again like above we mention phone_no , gmail etc if we mention one time then we dont need to mention again unless we have to add information of specific column"
   ]
  },
  {
   "cell_type": "code",
   "execution_count": 28,
   "id": "7a2301b3",
   "metadata": {},
   "outputs": [
    {
     "name": "stdout",
     "output_type": "stream",
     "text": [
      "2 Record(s) inserted\n"
     ]
    }
   ],
   "source": [
    "cursor.execute(\"INSERT INTO student_data VALUES (8976553522, 'student2@gmail.com' , 'data science' , 250000) , ( 9778453545, 'student3@gmail.com','data science' , 22000)\")\n",
    "  \n",
    "db.commit()\n",
    " \n",
    "print(cursor.rowcount , \"Record(s) inserted\")    \n",
    "  "
   ]
  },
  {
   "cell_type": "code",
   "execution_count": 29,
   "id": "3dd41b5e",
   "metadata": {},
   "outputs": [
    {
     "name": "stdout",
     "output_type": "stream",
     "text": [
      "(9255443308, 'student@gmail', 'data science', 30000)\n",
      "(7404143308, 'student@gmail', 'data science', 30000)\n",
      "(987654321, 'student2@gmail.com', 'data science', 250000)\n",
      "(9778453512, 'student3@gmail.com', 'data science', 22000)\n",
      "(8976553522, 'student2@gmail.com', 'data science', 250000)\n",
      "(9778453545, 'student3@gmail.com', 'data science', 22000)\n"
     ]
    }
   ],
   "source": [
    "results = cursor.execute(\"SELECT * FROM student_data\")\n",
    "for row in results:    \n",
    "    print(row)   "
   ]
  },
  {
   "cell_type": "code",
   "execution_count": 30,
   "id": "ac9425c6",
   "metadata": {},
   "outputs": [],
   "source": [
    "#integerity error occurs when the same value put in primary key \n",
    "# here phone number is our primary key when we add same records(phone no) then it will show integrity error"
   ]
  },
  {
   "cell_type": "markdown",
   "id": "778c5d50",
   "metadata": {},
   "source": [
    "# how to load data from file into table: \n"
   ]
  },
  {
   "cell_type": "raw",
   "id": "9c80c0fd",
   "metadata": {},
   "source": [
    "keep your csv file into the same folder where your jupyter notebok is present or provide folder link . we can not open file directly from github"
   ]
  },
  {
   "cell_type": "code",
   "execution_count": 31,
   "id": "b1d6e8d5",
   "metadata": {},
   "outputs": [],
   "source": [
    "# https://github.com/training-ml/files"
   ]
  },
  {
   "cell_type": "code",
   "execution_count": 40,
   "id": "c83044f7",
   "metadata": {},
   "outputs": [
    {
     "name": "stdout",
     "output_type": "stream",
     "text": [
      "20 Records inserted\n"
     ]
    }
   ],
   "source": [
    "with open ('DT_Students.csv','r') as file:    #we have to keep csv file in the same folder where jupyter notebook exist\n",
    "    no_records = 0                            #if not in same folder we have to give the path of the file. r stands for read\n",
    "    for row in file:\n",
    "        cursor.execute(\"INSERT INTO student_data VALUES( ?,?,?,?)\" , row.split(\",\"))\n",
    "        db.commit()\n",
    "        no_records += 1\n",
    "\n",
    "print(no_records , 'Records inserted')        "
   ]
  },
  {
   "cell_type": "code",
   "execution_count": 44,
   "id": "c33aebb1",
   "metadata": {},
   "outputs": [
    {
     "name": "stdout",
     "output_type": "stream",
     "text": [
      "(9255443308, 'student@gmail', 'data science', 30000)\n",
      "(7404143308, 'student@gmail', 'data science', 30000)\n",
      "(987654321, 'student2@gmail.com', 'data science', 250000)\n",
      "(9778453512, 'student3@gmail.com', 'data science', 22000)\n",
      "(8976553522, 'student2@gmail.com', 'data science', 250000)\n",
      "(9778453545, 'student3@gmail.com', 'data science', 22000)\n",
      "(9988776604, 'student4@gmail.com', 'Digital Marketing', 38000)\n",
      "(9988776605, 'student5@gmail.com', 'Data Science', 133000)\n",
      "(9988776606, 'student6@gmail.com', 'Data Science', 34000)\n",
      "(9988776607, 'student7@gmail.com', 'Data Science', 33000)\n",
      "(9988776608, 'student8@gmail.com', 'Data Science', 129000)\n",
      "(9988776609, 'student9@gmail.com', 'Data Science', 40000)\n",
      "(9988776610, 'student10@gmail.com', 'Data Analytics', 32500)\n",
      "(9988776611, 'student11@gmail.com', 'Data Science', 41500)\n",
      "(9988776612, 'student12@gmail.com', 'Digital Marketing', 31000)\n",
      "(9988776613, 'student13@gmail.com', 'Digital Marketing', 23000)\n",
      "(9988776614, 'student14@gmail.com', 'Data Science', 24000)\n",
      "(9988776615, 'student15@gmail.com', 'Data Science', 23000)\n",
      "(9988776616, 'student16@gmail.com', 'Data Science', 122500)\n",
      "(9988776617, 'student17@gmail.com', 'Data Science', 29000)\n",
      "(9988776618, 'student18@gmail.com', 'Data Science', 140000)\n",
      "(9988776619, 'student19@gmail.com', 'Data Analytics', 32500)\n",
      "(9988776620, 'student20@gmail.com', 'Inv Banking', 41500)\n",
      "(9988776621, 'student21@gmail.com', 'Data Science', 131000)\n",
      "(9988776622, 'student22@gmail.com', 'Data Science', 23000)\n",
      "(9988776623, 'student23@gmail.com', 'Data Science', 24000)\n"
     ]
    }
   ],
   "source": [
    "results = cursor.execute(\"SELECT * FROM student_data\")\n",
    "for row in results:\n",
    "    print(row)"
   ]
  },
  {
   "cell_type": "raw",
   "id": "453245cb",
   "metadata": {},
   "source": [
    "when we have data in billion and millions then it will take a lot of time to process and get data to window .i want data for students only enrolled for data science .we have to write some code to fetch the data of only data science students ."
   ]
  },
  {
   "cell_type": "code",
   "execution_count": 45,
   "id": "d65e0598",
   "metadata": {},
   "outputs": [],
   "source": [
    "#where = like in python we use if conditional statement in sql we use where as a conditional word."
   ]
  },
  {
   "cell_type": "markdown",
   "id": "8383ba84",
   "metadata": {},
   "source": [
    "# where-clause:"
   ]
  },
  {
   "cell_type": "code",
   "execution_count": 46,
   "id": "ff4a5aee",
   "metadata": {},
   "outputs": [
    {
     "name": "stdout",
     "output_type": "stream",
     "text": [
      "(9255443308, 'student@gmail', 'data science', 30000)\n",
      "(7404143308, 'student@gmail', 'data science', 30000)\n",
      "(987654321, 'student2@gmail.com', 'data science', 250000)\n",
      "(9778453512, 'student3@gmail.com', 'data science', 22000)\n",
      "(8976553522, 'student2@gmail.com', 'data science', 250000)\n",
      "(9778453545, 'student3@gmail.com', 'data science', 22000)\n"
     ]
    }
   ],
   "source": [
    "sql = \"SELECT * FROM student_data where course_name = 'data science'\"  #use Data science for more reult\n",
    "result = cursor.execute(sql)\n",
    "for row in result:\n",
    "    print(row)"
   ]
  },
  {
   "cell_type": "code",
   "execution_count": 52,
   "id": "2710c929",
   "metadata": {},
   "outputs": [],
   "source": [
    "#sql = \"SELECT * FROM student_id where fee paid >70000\""
   ]
  },
  {
   "cell_type": "code",
   "execution_count": 53,
   "id": "83b7b84b",
   "metadata": {},
   "outputs": [
    {
     "name": "stdout",
     "output_type": "stream",
     "text": [
      "(9255443308, 'student@gmail', 'data science', 30000)\n",
      "(7404143308, 'student@gmail', 'data science', 30000)\n",
      "(987654321, 'student2@gmail.com', 'data science', 250000)\n",
      "(9778453512, 'student3@gmail.com', 'data science', 22000)\n",
      "(8976553522, 'student2@gmail.com', 'data science', 250000)\n",
      "(9778453545, 'student3@gmail.com', 'data science', 22000)\n",
      "(9988776604, 'student4@gmail.com', 'Digital Marketing', 38000)\n",
      "(9988776605, 'student5@gmail.com', 'Data Science', 133000)\n",
      "(9988776606, 'student6@gmail.com', 'Data Science', 34000)\n",
      "(9988776607, 'student7@gmail.com', 'Data Science', 33000)\n",
      "(9988776608, 'student8@gmail.com', 'Data Science', 129000)\n",
      "(9988776609, 'student9@gmail.com', 'Data Science', 40000)\n",
      "(9988776610, 'student10@gmail.com', 'Data Analytics', 32500)\n",
      "(9988776611, 'student11@gmail.com', 'Data Science', 41500)\n",
      "(9988776612, 'student12@gmail.com', 'Digital Marketing', 31000)\n",
      "(9988776613, 'student13@gmail.com', 'Digital Marketing', 23000)\n",
      "(9988776614, 'student14@gmail.com', 'Data Science', 24000)\n",
      "(9988776615, 'student15@gmail.com', 'Data Science', 23000)\n",
      "(9988776616, 'student16@gmail.com', 'Data Science', 122500)\n",
      "(9988776617, 'student17@gmail.com', 'Data Science', 29000)\n",
      "(9988776618, 'student18@gmail.com', 'Data Science', 140000)\n",
      "(9988776619, 'student19@gmail.com', 'Data Analytics', 32500)\n",
      "(9988776620, 'student20@gmail.com', 'Inv Banking', 41500)\n",
      "(9988776621, 'student21@gmail.com', 'Data Science', 131000)\n",
      "(9988776622, 'student22@gmail.com', 'Data Science', 23000)\n",
      "(9988776623, 'student23@gmail.com', 'Data Science', 24000)\n"
     ]
    }
   ],
   "source": [
    "result = cursor.execute(\"SELECT * FROM student_data\")\n",
    "for row in result:\n",
    "    print(row)"
   ]
  },
  {
   "cell_type": "code",
   "execution_count": 56,
   "id": "aa79f260",
   "metadata": {},
   "outputs": [
    {
     "name": "stdout",
     "output_type": "stream",
     "text": [
      "(987654321, 'student2@gmail.com', 'data science', 250000)\n",
      "(8976553522, 'student2@gmail.com', 'data science', 250000)\n",
      "(9988776605, 'student5@gmail.com', 'Data Science', 133000)\n",
      "(9988776608, 'student8@gmail.com', 'Data Science', 129000)\n",
      "(9988776616, 'student16@gmail.com', 'Data Science', 122500)\n",
      "(9988776618, 'student18@gmail.com', 'Data Science', 140000)\n",
      "(9988776621, 'student21@gmail.com', 'Data Science', 131000)\n"
     ]
    }
   ],
   "source": [
    "sql = \"SELECT * FROM student_data where fee_paid > 45000\"\n",
    "result = cursor.execute(sql)\n",
    "for row in result:\n",
    "    print(row)"
   ]
  },
  {
   "cell_type": "code",
   "execution_count": 57,
   "id": "4f7563ab",
   "metadata": {},
   "outputs": [],
   "source": [
    "# in sql we use only one = sign of is equal to"
   ]
  },
  {
   "cell_type": "code",
   "execution_count": 58,
   "id": "671de9f6",
   "metadata": {},
   "outputs": [],
   "source": [
    "# to see phone_no and fee_paid"
   ]
  },
  {
   "cell_type": "code",
   "execution_count": 63,
   "id": "ce4db58e",
   "metadata": {},
   "outputs": [
    {
     "name": "stdout",
     "output_type": "stream",
     "text": [
      "(9255443308, 30000)\n",
      "(7404143308, 30000)\n",
      "(987654321, 250000)\n",
      "(9778453512, 22000)\n",
      "(8976553522, 250000)\n",
      "(9778453545, 22000)\n",
      "(9988776604, 38000)\n",
      "(9988776605, 133000)\n",
      "(9988776606, 34000)\n",
      "(9988776607, 33000)\n",
      "(9988776608, 129000)\n",
      "(9988776609, 40000)\n",
      "(9988776610, 32500)\n",
      "(9988776611, 41500)\n",
      "(9988776612, 31000)\n",
      "(9988776613, 23000)\n",
      "(9988776614, 24000)\n",
      "(9988776615, 23000)\n",
      "(9988776616, 122500)\n",
      "(9988776617, 29000)\n",
      "(9988776618, 140000)\n",
      "(9988776619, 32500)\n",
      "(9988776620, 41500)\n",
      "(9988776621, 131000)\n",
      "(9988776622, 23000)\n",
      "(9988776623, 24000)\n"
     ]
    }
   ],
   "source": [
    "result = cursor.execute(\"SELECT phone_no , fee_paid From student_data\")\n",
    "for row in result:\n",
    "    print(row)"
   ]
  },
  {
   "cell_type": "code",
   "execution_count": null,
   "id": "2cfefb60",
   "metadata": {},
   "outputs": [],
   "source": []
  }
 ],
 "metadata": {
  "kernelspec": {
   "display_name": "Python 3 (ipykernel)",
   "language": "python",
   "name": "python3"
  },
  "language_info": {
   "codemirror_mode": {
    "name": "ipython",
    "version": 3
   },
   "file_extension": ".py",
   "mimetype": "text/x-python",
   "name": "python",
   "nbconvert_exporter": "python",
   "pygments_lexer": "ipython3",
   "version": "3.9.13"
  }
 },
 "nbformat": 4,
 "nbformat_minor": 5
}
